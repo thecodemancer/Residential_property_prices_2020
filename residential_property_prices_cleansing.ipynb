{
 "cells": [
  {
   "cell_type": "markdown",
   "metadata": {},
   "source": [
    "# Homework 3 - Property Dataset"
   ]
  },
  {
   "cell_type": "markdown",
   "metadata": {},
   "source": [
    "## Loading the dataset"
   ]
  },
  {
   "cell_type": "code",
   "execution_count": 1,
   "metadata": {},
   "outputs": [],
   "source": [
    "import pandas as pd"
   ]
  },
  {
   "cell_type": "code",
   "execution_count": 23,
   "metadata": {},
   "outputs": [],
   "source": [
    "residential_property_prices_2020_df = pd.read_csv(\"original/PPR-2020.csv\", encoding= 'unicode_escape')\n"
   ]
  },
  {
   "cell_type": "markdown",
   "metadata": {},
   "source": [
    "## Data Exploration"
   ]
  },
  {
   "cell_type": "code",
   "execution_count": 24,
   "metadata": {},
   "outputs": [
    {
     "data": {
      "text/html": [
       "<div>\n",
       "<style scoped>\n",
       "    .dataframe tbody tr th:only-of-type {\n",
       "        vertical-align: middle;\n",
       "    }\n",
       "\n",
       "    .dataframe tbody tr th {\n",
       "        vertical-align: top;\n",
       "    }\n",
       "\n",
       "    .dataframe thead th {\n",
       "        text-align: right;\n",
       "    }\n",
       "</style>\n",
       "<table border=\"1\" class=\"dataframe\">\n",
       "  <thead>\n",
       "    <tr style=\"text-align: right;\">\n",
       "      <th></th>\n",
       "      <th>Date of Sale (dd/mm/yyyy)</th>\n",
       "      <th>Address</th>\n",
       "      <th>Postal Code</th>\n",
       "      <th>County</th>\n",
       "      <th>Price ()</th>\n",
       "      <th>Not Full Market Price</th>\n",
       "      <th>VAT Exclusive</th>\n",
       "      <th>Description of Property</th>\n",
       "      <th>Property Size Description</th>\n",
       "    </tr>\n",
       "  </thead>\n",
       "  <tbody>\n",
       "    <tr>\n",
       "      <th>0</th>\n",
       "      <td>01/01/2020</td>\n",
       "      <td>APT 1 LEE HOUSE, STRAND LANE  THE QUAY, CARRIC...</td>\n",
       "      <td>NaN</td>\n",
       "      <td>Tipperary</td>\n",
       "      <td>120,000.00</td>\n",
       "      <td>No</td>\n",
       "      <td>No</td>\n",
       "      <td>Second-Hand Dwelling house /Apartment</td>\n",
       "      <td>NaN</td>\n",
       "    </tr>\n",
       "    <tr>\n",
       "      <th>1</th>\n",
       "      <td>01/01/2020</td>\n",
       "      <td>Lands at Cliffor'd Field, Treanoughtragh, Glen...</td>\n",
       "      <td>NaN</td>\n",
       "      <td>Kerry</td>\n",
       "      <td>248,681.00</td>\n",
       "      <td>No</td>\n",
       "      <td>Yes</td>\n",
       "      <td>New Dwelling house /Apartment</td>\n",
       "      <td>NaN</td>\n",
       "    </tr>\n",
       "    <tr>\n",
       "      <th>2</th>\n",
       "      <td>01/01/2020</td>\n",
       "      <td>ROSSACOOSANE, TEMPLENOE, KENMARE</td>\n",
       "      <td>NaN</td>\n",
       "      <td>Kerry</td>\n",
       "      <td>450,000.00</td>\n",
       "      <td>No</td>\n",
       "      <td>No</td>\n",
       "      <td>Second-Hand Dwelling house /Apartment</td>\n",
       "      <td>NaN</td>\n",
       "    </tr>\n",
       "    <tr>\n",
       "      <th>3</th>\n",
       "      <td>01/01/2020</td>\n",
       "      <td>Site 4, Clifford's Field, Treanoughtragh</td>\n",
       "      <td>NaN</td>\n",
       "      <td>Kerry</td>\n",
       "      <td>286,950.00</td>\n",
       "      <td>No</td>\n",
       "      <td>Yes</td>\n",
       "      <td>New Dwelling house /Apartment</td>\n",
       "      <td>NaN</td>\n",
       "    </tr>\n",
       "    <tr>\n",
       "      <th>4</th>\n",
       "      <td>02/01/2020</td>\n",
       "      <td>105 DONAGHMORE, THE ANCHORAGE, BETTYSTOWN</td>\n",
       "      <td>NaN</td>\n",
       "      <td>Meath</td>\n",
       "      <td>125,000.00</td>\n",
       "      <td>No</td>\n",
       "      <td>No</td>\n",
       "      <td>Second-Hand Dwelling house /Apartment</td>\n",
       "      <td>NaN</td>\n",
       "    </tr>\n",
       "  </tbody>\n",
       "</table>\n",
       "</div>"
      ],
      "text/plain": [
       "  Date of Sale (dd/mm/yyyy)  \\\n",
       "0                01/01/2020   \n",
       "1                01/01/2020   \n",
       "2                01/01/2020   \n",
       "3                01/01/2020   \n",
       "4                02/01/2020   \n",
       "\n",
       "                                             Address Postal Code     County  \\\n",
       "0  APT 1 LEE HOUSE, STRAND LANE  THE QUAY, CARRIC...         NaN  Tipperary   \n",
       "1  Lands at Cliffor'd Field, Treanoughtragh, Glen...         NaN      Kerry   \n",
       "2                   ROSSACOOSANE, TEMPLENOE, KENMARE         NaN      Kerry   \n",
       "3           Site 4, Clifford's Field, Treanoughtragh         NaN      Kerry   \n",
       "4          105 DONAGHMORE, THE ANCHORAGE, BETTYSTOWN         NaN      Meath   \n",
       "\n",
       "     Price () Not Full Market Price VAT Exclusive  \\\n",
       "0  120,000.00                    No            No   \n",
       "1  248,681.00                    No           Yes   \n",
       "2  450,000.00                    No            No   \n",
       "3  286,950.00                    No           Yes   \n",
       "4  125,000.00                    No            No   \n",
       "\n",
       "                 Description of Property Property Size Description  \n",
       "0  Second-Hand Dwelling house /Apartment                       NaN  \n",
       "1          New Dwelling house /Apartment                       NaN  \n",
       "2  Second-Hand Dwelling house /Apartment                       NaN  \n",
       "3          New Dwelling house /Apartment                       NaN  \n",
       "4  Second-Hand Dwelling house /Apartment                       NaN  "
      ]
     },
     "execution_count": 24,
     "metadata": {},
     "output_type": "execute_result"
    }
   ],
   "source": [
    "residential_property_prices_2020_df.head()"
   ]
  },
  {
   "cell_type": "code",
   "execution_count": 25,
   "metadata": {},
   "outputs": [
    {
     "name": "stdout",
     "output_type": "stream",
     "text": [
      "<class 'pandas.core.frame.DataFrame'>\n",
      "RangeIndex: 49178 entries, 0 to 49177\n",
      "Data columns (total 9 columns):\n",
      " #   Column                     Non-Null Count  Dtype \n",
      "---  ------                     --------------  ----- \n",
      " 0   Date of Sale (dd/mm/yyyy)  49178 non-null  object\n",
      " 1   Address                    49178 non-null  object\n",
      " 2   Postal Code                9559 non-null   object\n",
      " 3   County                     49178 non-null  object\n",
      " 4   Price ()                  49178 non-null  object\n",
      " 5   Not Full Market Price      49178 non-null  object\n",
      " 6   VAT Exclusive              49178 non-null  object\n",
      " 7   Description of Property    49178 non-null  object\n",
      " 8   Property Size Description  19 non-null     object\n",
      "dtypes: object(9)\n",
      "memory usage: 3.4+ MB\n"
     ]
    }
   ],
   "source": [
    "residential_property_prices_2020_df.info()"
   ]
  },
  {
   "cell_type": "markdown",
   "metadata": {},
   "source": [
    "Let's change the name of the columns"
   ]
  },
  {
   "cell_type": "code",
   "execution_count": 26,
   "metadata": {},
   "outputs": [],
   "source": [
    "names = ['sale_date','street','postal_code','county','price','not_null_market_price','vat_exclusive','vat_exclusive','property_size']\n",
    "residential_property_prices_2020_df.columns = names\n"
   ]
  },
  {
   "cell_type": "code",
   "execution_count": 27,
   "metadata": {},
   "outputs": [
    {
     "name": "stdout",
     "output_type": "stream",
     "text": [
      "<class 'pandas.core.frame.DataFrame'>\n",
      "RangeIndex: 49178 entries, 0 to 49177\n",
      "Data columns (total 9 columns):\n",
      " #   Column                 Non-Null Count  Dtype \n",
      "---  ------                 --------------  ----- \n",
      " 0   sale_date              49178 non-null  object\n",
      " 1   street                 49178 non-null  object\n",
      " 2   postal_code            9559 non-null   object\n",
      " 3   county                 49178 non-null  object\n",
      " 4   price                  49178 non-null  object\n",
      " 5   not_null_market_price  49178 non-null  object\n",
      " 6   vat_exclusive          49178 non-null  object\n",
      " 7   vat_exclusive          49178 non-null  object\n",
      " 8   property_size          19 non-null     object\n",
      "dtypes: object(9)\n",
      "memory usage: 3.4+ MB\n"
     ]
    }
   ],
   "source": [
    "residential_property_prices_2020_df.info()"
   ]
  },
  {
   "cell_type": "markdown",
   "metadata": {},
   "source": [
    "In the price column we must make sure to read only numbers. In order to do that, we will use the map and replace functions"
   ]
  },
  {
   "cell_type": "code",
   "execution_count": 36,
   "metadata": {},
   "outputs": [],
   "source": [
    "residential_property_prices_2020_df['price'] = residential_property_prices_2020_df['price'].map(lambda x: x[1:].replace(\",\",\"\") )"
   ]
  },
  {
   "cell_type": "code",
   "execution_count": 37,
   "metadata": {},
   "outputs": [
    {
     "data": {
      "text/html": [
       "<div>\n",
       "<style scoped>\n",
       "    .dataframe tbody tr th:only-of-type {\n",
       "        vertical-align: middle;\n",
       "    }\n",
       "\n",
       "    .dataframe tbody tr th {\n",
       "        vertical-align: top;\n",
       "    }\n",
       "\n",
       "    .dataframe thead th {\n",
       "        text-align: right;\n",
       "    }\n",
       "</style>\n",
       "<table border=\"1\" class=\"dataframe\">\n",
       "  <thead>\n",
       "    <tr style=\"text-align: right;\">\n",
       "      <th></th>\n",
       "      <th>sale_date</th>\n",
       "      <th>street</th>\n",
       "      <th>postal_code</th>\n",
       "      <th>county</th>\n",
       "      <th>price</th>\n",
       "      <th>not_null_market_price</th>\n",
       "      <th>vat_exclusive</th>\n",
       "      <th>vat_exclusive</th>\n",
       "      <th>property_size</th>\n",
       "    </tr>\n",
       "  </thead>\n",
       "  <tbody>\n",
       "    <tr>\n",
       "      <th>0</th>\n",
       "      <td>01/01/2020</td>\n",
       "      <td>APT 1 LEE HOUSE, STRAND LANE  THE QUAY, CARRIC...</td>\n",
       "      <td>NaN</td>\n",
       "      <td>Tipperary</td>\n",
       "      <td>000.00</td>\n",
       "      <td>No</td>\n",
       "      <td>No</td>\n",
       "      <td>Second-Hand Dwelling house /Apartment</td>\n",
       "      <td>NaN</td>\n",
       "    </tr>\n",
       "    <tr>\n",
       "      <th>1</th>\n",
       "      <td>01/01/2020</td>\n",
       "      <td>Lands at Cliffor'd Field, Treanoughtragh, Glen...</td>\n",
       "      <td>NaN</td>\n",
       "      <td>Kerry</td>\n",
       "      <td>681.00</td>\n",
       "      <td>No</td>\n",
       "      <td>Yes</td>\n",
       "      <td>New Dwelling house /Apartment</td>\n",
       "      <td>NaN</td>\n",
       "    </tr>\n",
       "    <tr>\n",
       "      <th>2</th>\n",
       "      <td>01/01/2020</td>\n",
       "      <td>ROSSACOOSANE, TEMPLENOE, KENMARE</td>\n",
       "      <td>NaN</td>\n",
       "      <td>Kerry</td>\n",
       "      <td>000.00</td>\n",
       "      <td>No</td>\n",
       "      <td>No</td>\n",
       "      <td>Second-Hand Dwelling house /Apartment</td>\n",
       "      <td>NaN</td>\n",
       "    </tr>\n",
       "    <tr>\n",
       "      <th>3</th>\n",
       "      <td>01/01/2020</td>\n",
       "      <td>Site 4, Clifford's Field, Treanoughtragh</td>\n",
       "      <td>NaN</td>\n",
       "      <td>Kerry</td>\n",
       "      <td>950.00</td>\n",
       "      <td>No</td>\n",
       "      <td>Yes</td>\n",
       "      <td>New Dwelling house /Apartment</td>\n",
       "      <td>NaN</td>\n",
       "    </tr>\n",
       "    <tr>\n",
       "      <th>4</th>\n",
       "      <td>02/01/2020</td>\n",
       "      <td>105 DONAGHMORE, THE ANCHORAGE, BETTYSTOWN</td>\n",
       "      <td>NaN</td>\n",
       "      <td>Meath</td>\n",
       "      <td>000.00</td>\n",
       "      <td>No</td>\n",
       "      <td>No</td>\n",
       "      <td>Second-Hand Dwelling house /Apartment</td>\n",
       "      <td>NaN</td>\n",
       "    </tr>\n",
       "  </tbody>\n",
       "</table>\n",
       "</div>"
      ],
      "text/plain": [
       "    sale_date                                             street postal_code  \\\n",
       "0  01/01/2020  APT 1 LEE HOUSE, STRAND LANE  THE QUAY, CARRIC...         NaN   \n",
       "1  01/01/2020  Lands at Cliffor'd Field, Treanoughtragh, Glen...         NaN   \n",
       "2  01/01/2020                   ROSSACOOSANE, TEMPLENOE, KENMARE         NaN   \n",
       "3  01/01/2020           Site 4, Clifford's Field, Treanoughtragh         NaN   \n",
       "4  02/01/2020          105 DONAGHMORE, THE ANCHORAGE, BETTYSTOWN         NaN   \n",
       "\n",
       "      county   price not_null_market_price vat_exclusive  \\\n",
       "0  Tipperary  000.00                    No            No   \n",
       "1      Kerry  681.00                    No           Yes   \n",
       "2      Kerry  000.00                    No            No   \n",
       "3      Kerry  950.00                    No           Yes   \n",
       "4      Meath  000.00                    No            No   \n",
       "\n",
       "                           vat_exclusive property_size  \n",
       "0  Second-Hand Dwelling house /Apartment           NaN  \n",
       "1          New Dwelling house /Apartment           NaN  \n",
       "2  Second-Hand Dwelling house /Apartment           NaN  \n",
       "3          New Dwelling house /Apartment           NaN  \n",
       "4  Second-Hand Dwelling house /Apartment           NaN  "
      ]
     },
     "execution_count": 37,
     "metadata": {},
     "output_type": "execute_result"
    }
   ],
   "source": [
    "residential_property_prices_2020_df.head()"
   ]
  },
  {
   "cell_type": "markdown",
   "metadata": {},
   "source": [
    "## Saving to disk"
   ]
  },
  {
   "cell_type": "markdown",
   "metadata": {},
   "source": [
    "After performing data cleansing, we save the data from the dataframe into disk, so another process can take that file and upload it into the database (like Mysql Workbench's Table Data Import Wizard)"
   ]
  },
  {
   "cell_type": "code",
   "execution_count": 32,
   "metadata": {},
   "outputs": [],
   "source": [
    "residential_property_prices_2020_df.to_csv('processed/PPR-2020.csv',index=False)"
   ]
  },
  {
   "cell_type": "code",
   "execution_count": null,
   "metadata": {},
   "outputs": [],
   "source": []
  },
  {
   "cell_type": "code",
   "execution_count": null,
   "metadata": {},
   "outputs": [],
   "source": []
  }
 ],
 "metadata": {
  "kernelspec": {
   "display_name": "Python 3",
   "language": "python",
   "name": "python3"
  },
  "language_info": {
   "codemirror_mode": {
    "name": "ipython",
    "version": 3
   },
   "file_extension": ".py",
   "mimetype": "text/x-python",
   "name": "python",
   "nbconvert_exporter": "python",
   "pygments_lexer": "ipython3",
   "version": "3.8.5"
  }
 },
 "nbformat": 4,
 "nbformat_minor": 4
}
